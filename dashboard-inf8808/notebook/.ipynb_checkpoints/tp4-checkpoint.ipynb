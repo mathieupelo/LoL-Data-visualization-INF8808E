{
 "cells": [
  {
   "cell_type": "markdown",
   "metadata": {},
   "source": [
    "# TP4 | INF8808\n",
    "\n",
    "In this notebook, we will start by creating a simple app to help explore our data. This step is important in conceiving data visualizations. It helps to determine which type of data visualization is appropriate for our data set, as well as which features we'd like to include. \n",
    "\n",
    "In the rest of this notebook, you will have to complete some cells to prepare for the implementation of an animated bubble chart in the next steps. \n",
    "\n",
    "To begin, take a look at the following cells, where we complete the necessary imports and load the data.\n",
    "\n"
   ]
  },
  {
   "cell_type": "code",
   "execution_count": 1,
   "metadata": {},
   "outputs": [],
   "source": [
    "import pandas as pd\n",
    "import json"
   ]
  },
  {
   "cell_type": "code",
   "execution_count": 4,
   "metadata": {},
   "outputs": [
    {
     "name": "stdout",
     "output_type": "stream",
     "text": [
      "Collecting jupyter_dash\n",
      "  Downloading jupyter_dash-0.4.2-py3-none-any.whl.metadata (3.6 kB)\n",
      "Requirement already satisfied: dash in c:\\users\\k-1\\documents\\polytechnique montréal\\maitrise\\inf8808 - data visualization\\venv\\lib\\site-packages (from jupyter_dash) (2.6.2)\n",
      "Collecting requests (from jupyter_dash)\n",
      "  Downloading requests-2.32.3-py3-none-any.whl.metadata (4.6 kB)\n",
      "Requirement already satisfied: flask in c:\\users\\k-1\\documents\\polytechnique montréal\\maitrise\\inf8808 - data visualization\\venv\\lib\\site-packages (from jupyter_dash) (2.2.2)\n",
      "Collecting retrying (from jupyter_dash)\n",
      "  Downloading retrying-1.3.4-py3-none-any.whl.metadata (6.9 kB)\n",
      "Requirement already satisfied: ipython in c:\\users\\k-1\\documents\\polytechnique montréal\\maitrise\\inf8808 - data visualization\\venv\\lib\\site-packages (from jupyter_dash) (8.12.3)\n",
      "Requirement already satisfied: ipykernel in c:\\users\\k-1\\documents\\polytechnique montréal\\maitrise\\inf8808 - data visualization\\venv\\lib\\site-packages (from jupyter_dash) (6.29.5)\n",
      "Collecting ansi2html (from jupyter_dash)\n",
      "  Downloading ansi2html-1.9.2-py3-none-any.whl.metadata (3.7 kB)\n",
      "Requirement already satisfied: nest-asyncio in c:\\users\\k-1\\documents\\polytechnique montréal\\maitrise\\inf8808 - data visualization\\venv\\lib\\site-packages (from jupyter_dash) (1.6.0)\n",
      "Requirement already satisfied: flask-compress in c:\\users\\k-1\\documents\\polytechnique montréal\\maitrise\\inf8808 - data visualization\\venv\\lib\\site-packages (from dash->jupyter_dash) (1.13)\n",
      "Requirement already satisfied: plotly>=5.0.0 in c:\\users\\k-1\\documents\\polytechnique montréal\\maitrise\\inf8808 - data visualization\\venv\\lib\\site-packages (from dash->jupyter_dash) (5.11.0)\n",
      "Requirement already satisfied: dash-html-components==2.0.0 in c:\\users\\k-1\\documents\\polytechnique montréal\\maitrise\\inf8808 - data visualization\\venv\\lib\\site-packages (from dash->jupyter_dash) (2.0.0)\n",
      "Requirement already satisfied: dash-core-components==2.0.0 in c:\\users\\k-1\\documents\\polytechnique montréal\\maitrise\\inf8808 - data visualization\\venv\\lib\\site-packages (from dash->jupyter_dash) (2.0.0)\n",
      "Requirement already satisfied: dash-table==5.0.0 in c:\\users\\k-1\\documents\\polytechnique montréal\\maitrise\\inf8808 - data visualization\\venv\\lib\\site-packages (from dash->jupyter_dash) (5.0.0)\n",
      "Requirement already satisfied: Werkzeug>=2.2.2 in c:\\users\\k-1\\documents\\polytechnique montréal\\maitrise\\inf8808 - data visualization\\venv\\lib\\site-packages (from flask->jupyter_dash) (2.2.2)\n",
      "Requirement already satisfied: Jinja2>=3.0 in c:\\users\\k-1\\documents\\polytechnique montréal\\maitrise\\inf8808 - data visualization\\venv\\lib\\site-packages (from flask->jupyter_dash) (3.1.2)\n",
      "Requirement already satisfied: itsdangerous>=2.0 in c:\\users\\k-1\\documents\\polytechnique montréal\\maitrise\\inf8808 - data visualization\\venv\\lib\\site-packages (from flask->jupyter_dash) (2.1.2)\n",
      "Requirement already satisfied: click>=8.0 in c:\\users\\k-1\\documents\\polytechnique montréal\\maitrise\\inf8808 - data visualization\\venv\\lib\\site-packages (from flask->jupyter_dash) (8.1.3)\n",
      "Requirement already satisfied: importlib-metadata>=3.6.0 in c:\\users\\k-1\\documents\\polytechnique montréal\\maitrise\\inf8808 - data visualization\\venv\\lib\\site-packages (from flask->jupyter_dash) (5.0.0)\n",
      "Requirement already satisfied: comm>=0.1.1 in c:\\users\\k-1\\documents\\polytechnique montréal\\maitrise\\inf8808 - data visualization\\venv\\lib\\site-packages (from ipykernel->jupyter_dash) (0.2.2)\n",
      "Requirement already satisfied: debugpy>=1.6.5 in c:\\users\\k-1\\documents\\polytechnique montréal\\maitrise\\inf8808 - data visualization\\venv\\lib\\site-packages (from ipykernel->jupyter_dash) (1.8.14)\n",
      "Requirement already satisfied: jupyter-client>=6.1.12 in c:\\users\\k-1\\documents\\polytechnique montréal\\maitrise\\inf8808 - data visualization\\venv\\lib\\site-packages (from ipykernel->jupyter_dash) (8.6.3)\n",
      "Requirement already satisfied: jupyter-core!=5.0.*,>=4.12 in c:\\users\\k-1\\documents\\polytechnique montréal\\maitrise\\inf8808 - data visualization\\venv\\lib\\site-packages (from ipykernel->jupyter_dash) (5.8.1)\n",
      "Requirement already satisfied: matplotlib-inline>=0.1 in c:\\users\\k-1\\documents\\polytechnique montréal\\maitrise\\inf8808 - data visualization\\venv\\lib\\site-packages (from ipykernel->jupyter_dash) (0.1.7)\n",
      "Requirement already satisfied: packaging in c:\\users\\k-1\\documents\\polytechnique montréal\\maitrise\\inf8808 - data visualization\\venv\\lib\\site-packages (from ipykernel->jupyter_dash) (25.0)\n",
      "Requirement already satisfied: psutil in c:\\users\\k-1\\documents\\polytechnique montréal\\maitrise\\inf8808 - data visualization\\venv\\lib\\site-packages (from ipykernel->jupyter_dash) (7.0.0)\n",
      "Requirement already satisfied: pyzmq>=24 in c:\\users\\k-1\\documents\\polytechnique montréal\\maitrise\\inf8808 - data visualization\\venv\\lib\\site-packages (from ipykernel->jupyter_dash) (26.4.0)\n",
      "Requirement already satisfied: tornado>=6.1 in c:\\users\\k-1\\documents\\polytechnique montréal\\maitrise\\inf8808 - data visualization\\venv\\lib\\site-packages (from ipykernel->jupyter_dash) (6.4.2)\n",
      "Requirement already satisfied: traitlets>=5.4.0 in c:\\users\\k-1\\documents\\polytechnique montréal\\maitrise\\inf8808 - data visualization\\venv\\lib\\site-packages (from ipykernel->jupyter_dash) (5.14.3)\n",
      "Requirement already satisfied: backcall in c:\\users\\k-1\\documents\\polytechnique montréal\\maitrise\\inf8808 - data visualization\\venv\\lib\\site-packages (from ipython->jupyter_dash) (0.2.0)\n",
      "Requirement already satisfied: decorator in c:\\users\\k-1\\documents\\polytechnique montréal\\maitrise\\inf8808 - data visualization\\venv\\lib\\site-packages (from ipython->jupyter_dash) (5.2.1)\n",
      "Requirement already satisfied: jedi>=0.16 in c:\\users\\k-1\\documents\\polytechnique montréal\\maitrise\\inf8808 - data visualization\\venv\\lib\\site-packages (from ipython->jupyter_dash) (0.19.2)\n",
      "Requirement already satisfied: pickleshare in c:\\users\\k-1\\documents\\polytechnique montréal\\maitrise\\inf8808 - data visualization\\venv\\lib\\site-packages (from ipython->jupyter_dash) (0.7.5)\n",
      "Requirement already satisfied: prompt-toolkit!=3.0.37,<3.1.0,>=3.0.30 in c:\\users\\k-1\\documents\\polytechnique montréal\\maitrise\\inf8808 - data visualization\\venv\\lib\\site-packages (from ipython->jupyter_dash) (3.0.51)\n",
      "Requirement already satisfied: pygments>=2.4.0 in c:\\users\\k-1\\documents\\polytechnique montréal\\maitrise\\inf8808 - data visualization\\venv\\lib\\site-packages (from ipython->jupyter_dash) (2.19.1)\n",
      "Requirement already satisfied: stack-data in c:\\users\\k-1\\documents\\polytechnique montréal\\maitrise\\inf8808 - data visualization\\venv\\lib\\site-packages (from ipython->jupyter_dash) (0.6.3)\n",
      "Requirement already satisfied: typing-extensions in c:\\users\\k-1\\documents\\polytechnique montréal\\maitrise\\inf8808 - data visualization\\venv\\lib\\site-packages (from ipython->jupyter_dash) (4.13.2)\n",
      "Requirement already satisfied: colorama in c:\\users\\k-1\\documents\\polytechnique montréal\\maitrise\\inf8808 - data visualization\\venv\\lib\\site-packages (from ipython->jupyter_dash) (0.4.6)\n",
      "Collecting charset-normalizer<4,>=2 (from requests->jupyter_dash)\n",
      "  Downloading charset_normalizer-3.4.2-cp38-cp38-win_amd64.whl.metadata (36 kB)\n",
      "Collecting idna<4,>=2.5 (from requests->jupyter_dash)\n",
      "  Downloading idna-3.10-py3-none-any.whl.metadata (10 kB)\n",
      "Collecting urllib3<3,>=1.21.1 (from requests->jupyter_dash)\n",
      "  Downloading urllib3-2.2.3-py3-none-any.whl.metadata (6.5 kB)\n",
      "Collecting certifi>=2017.4.17 (from requests->jupyter_dash)\n",
      "  Downloading certifi-2025.4.26-py3-none-any.whl.metadata (2.5 kB)\n",
      "Requirement already satisfied: six>=1.7.0 in c:\\users\\k-1\\documents\\polytechnique montréal\\maitrise\\inf8808 - data visualization\\venv\\lib\\site-packages (from retrying->jupyter_dash) (1.16.0)\n",
      "Requirement already satisfied: zipp>=0.5 in c:\\users\\k-1\\documents\\polytechnique montréal\\maitrise\\inf8808 - data visualization\\venv\\lib\\site-packages (from importlib-metadata>=3.6.0->flask->jupyter_dash) (3.10.0)\n",
      "Requirement already satisfied: parso<0.9.0,>=0.8.4 in c:\\users\\k-1\\documents\\polytechnique montréal\\maitrise\\inf8808 - data visualization\\venv\\lib\\site-packages (from jedi>=0.16->ipython->jupyter_dash) (0.8.4)\n",
      "Requirement already satisfied: MarkupSafe>=2.0 in c:\\users\\k-1\\documents\\polytechnique montréal\\maitrise\\inf8808 - data visualization\\venv\\lib\\site-packages (from Jinja2>=3.0->flask->jupyter_dash) (2.1.1)\n",
      "Requirement already satisfied: python-dateutil>=2.8.2 in c:\\users\\k-1\\documents\\polytechnique montréal\\maitrise\\inf8808 - data visualization\\venv\\lib\\site-packages (from jupyter-client>=6.1.12->ipykernel->jupyter_dash) (2.8.2)\n",
      "Requirement already satisfied: platformdirs>=2.5 in c:\\users\\k-1\\documents\\polytechnique montréal\\maitrise\\inf8808 - data visualization\\venv\\lib\\site-packages (from jupyter-core!=5.0.*,>=4.12->ipykernel->jupyter_dash) (4.3.6)\n",
      "Requirement already satisfied: pywin32>=300 in c:\\users\\k-1\\documents\\polytechnique montréal\\maitrise\\inf8808 - data visualization\\venv\\lib\\site-packages (from jupyter-core!=5.0.*,>=4.12->ipykernel->jupyter_dash) (310)\n",
      "Requirement already satisfied: tenacity>=6.2.0 in c:\\users\\k-1\\documents\\polytechnique montréal\\maitrise\\inf8808 - data visualization\\venv\\lib\\site-packages (from plotly>=5.0.0->dash->jupyter_dash) (8.1.0)\n",
      "Requirement already satisfied: wcwidth in c:\\users\\k-1\\documents\\polytechnique montréal\\maitrise\\inf8808 - data visualization\\venv\\lib\\site-packages (from prompt-toolkit!=3.0.37,<3.1.0,>=3.0.30->ipython->jupyter_dash) (0.2.13)\n",
      "Requirement already satisfied: brotli in c:\\users\\k-1\\documents\\polytechnique montréal\\maitrise\\inf8808 - data visualization\\venv\\lib\\site-packages (from flask-compress->dash->jupyter_dash) (1.0.9)\n",
      "Requirement already satisfied: executing>=1.2.0 in c:\\users\\k-1\\documents\\polytechnique montréal\\maitrise\\inf8808 - data visualization\\venv\\lib\\site-packages (from stack-data->ipython->jupyter_dash) (2.2.0)\n",
      "Requirement already satisfied: asttokens>=2.1.0 in c:\\users\\k-1\\documents\\polytechnique montréal\\maitrise\\inf8808 - data visualization\\venv\\lib\\site-packages (from stack-data->ipython->jupyter_dash) (3.0.0)\n",
      "Requirement already satisfied: pure-eval in c:\\users\\k-1\\documents\\polytechnique montréal\\maitrise\\inf8808 - data visualization\\venv\\lib\\site-packages (from stack-data->ipython->jupyter_dash) (0.2.3)\n",
      "Downloading jupyter_dash-0.4.2-py3-none-any.whl (23 kB)\n",
      "Downloading ansi2html-1.9.2-py3-none-any.whl (17 kB)\n",
      "Downloading requests-2.32.3-py3-none-any.whl (64 kB)\n",
      "Downloading retrying-1.3.4-py3-none-any.whl (11 kB)\n",
      "Downloading certifi-2025.4.26-py3-none-any.whl (159 kB)\n",
      "Downloading charset_normalizer-3.4.2-cp38-cp38-win_amd64.whl (105 kB)\n",
      "Downloading idna-3.10-py3-none-any.whl (70 kB)\n",
      "Downloading urllib3-2.2.3-py3-none-any.whl (126 kB)\n",
      "Installing collected packages: urllib3, retrying, idna, charset-normalizer, certifi, ansi2html, requests, jupyter_dash\n",
      "Successfully installed ansi2html-1.9.2 certifi-2025.4.26 charset-normalizer-3.4.2 idna-3.10 jupyter_dash-0.4.2 requests-2.32.3 retrying-1.3.4 urllib3-2.2.3\n"
     ]
    }
   ],
   "source": [
    "!pip install jupyter_dash"
   ]
  },
  {
   "cell_type": "code",
   "execution_count": 5,
   "metadata": {},
   "outputs": [],
   "source": [
    "with open('../src/assets/data/countriesData.json') as data_file:    \n",
    "    data = json.load(data_file)  \n",
    "\n",
    "df_2000 = pd.json_normalize(data, '2000')\n",
    "df_2015 = pd.json_normalize(data, '2015')"
   ]
  },
  {
   "cell_type": "code",
   "execution_count": 6,
   "metadata": {},
   "outputs": [
    {
     "name": "stderr",
     "output_type": "stream",
     "text": [
      "C:\\Users\\K-1\\AppData\\Local\\Temp\\ipykernel_30492\\3203507159.py:3: UserWarning: \n",
      "The dash_html_components package is deprecated. Please replace\n",
      "`import dash_html_components as html` with `from dash import html`\n",
      "  import dash_html_components as html\n",
      "C:\\Users\\K-1\\AppData\\Local\\Temp\\ipykernel_30492\\3203507159.py:4: UserWarning: \n",
      "The dash_core_components package is deprecated. Please replace\n",
      "`import dash_core_components as dcc` with `from dash import dcc`\n",
      "  import dash_core_components as dcc\n"
     ]
    }
   ],
   "source": [
    "from jupyter_dash import JupyterDash\n",
    "import dash\n",
    "import dash_html_components as html\n",
    "import dash_core_components as dcc\n",
    "\n",
    "import plotly.express as px"
   ]
  },
  {
   "cell_type": "code",
   "execution_count": 7,
   "metadata": {},
   "outputs": [],
   "source": [
    "external_stylesheets=['https://codepen.io/chriddyp/pen/bWLwgP.css']"
   ]
  },
  {
   "cell_type": "code",
   "execution_count": 8,
   "metadata": {},
   "outputs": [],
   "source": [
    "app = JupyterDash(__name__, external_stylesheets=external_stylesheets)"
   ]
  },
  {
   "cell_type": "code",
   "execution_count": 9,
   "metadata": {},
   "outputs": [
    {
     "data": {
      "text/html": [
       "<div>\n",
       "<style scoped>\n",
       "    .dataframe tbody tr th:only-of-type {\n",
       "        vertical-align: middle;\n",
       "    }\n",
       "\n",
       "    .dataframe tbody tr th {\n",
       "        vertical-align: top;\n",
       "    }\n",
       "\n",
       "    .dataframe thead th {\n",
       "        text-align: right;\n",
       "    }\n",
       "</style>\n",
       "<table border=\"1\" class=\"dataframe\">\n",
       "  <thead>\n",
       "    <tr style=\"text-align: right;\">\n",
       "      <th></th>\n",
       "      <th>Country Name</th>\n",
       "      <th>GDP</th>\n",
       "      <th>CO2</th>\n",
       "      <th>Population</th>\n",
       "      <th>Continent</th>\n",
       "    </tr>\n",
       "  </thead>\n",
       "  <tbody>\n",
       "    <tr>\n",
       "      <th>0</th>\n",
       "      <td>Algeria</td>\n",
       "      <td>1764.973830</td>\n",
       "      <td>2.830380</td>\n",
       "      <td>31042235</td>\n",
       "      <td>Africa</td>\n",
       "    </tr>\n",
       "    <tr>\n",
       "      <th>1</th>\n",
       "      <td>Andorra</td>\n",
       "      <td>21854.246803</td>\n",
       "      <td>8.019284</td>\n",
       "      <td>65390</td>\n",
       "      <td>Europe</td>\n",
       "    </tr>\n",
       "    <tr>\n",
       "      <th>2</th>\n",
       "      <td>Angola</td>\n",
       "      <td>556.836318</td>\n",
       "      <td>0.581961</td>\n",
       "      <td>16395473</td>\n",
       "      <td>Africa</td>\n",
       "    </tr>\n",
       "    <tr>\n",
       "      <th>3</th>\n",
       "      <td>Albania</td>\n",
       "      <td>1126.683318</td>\n",
       "      <td>0.978175</td>\n",
       "      <td>3089027</td>\n",
       "      <td>Europe</td>\n",
       "    </tr>\n",
       "    <tr>\n",
       "      <th>4</th>\n",
       "      <td>Antigua and Barbuda</td>\n",
       "      <td>10920.842688</td>\n",
       "      <td>4.534545</td>\n",
       "      <td>76016</td>\n",
       "      <td>North America</td>\n",
       "    </tr>\n",
       "    <tr>\n",
       "      <th>...</th>\n",
       "      <td>...</td>\n",
       "      <td>...</td>\n",
       "      <td>...</td>\n",
       "      <td>...</td>\n",
       "      <td>...</td>\n",
       "    </tr>\n",
       "    <tr>\n",
       "      <th>169</th>\n",
       "      <td>Vanuatu</td>\n",
       "      <td>1470.572265</td>\n",
       "      <td>0.455966</td>\n",
       "      <td>184972</td>\n",
       "      <td>Oceania</td>\n",
       "    </tr>\n",
       "    <tr>\n",
       "      <th>170</th>\n",
       "      <td>Vietnam</td>\n",
       "      <td>390.093326</td>\n",
       "      <td>0.671309</td>\n",
       "      <td>79910412</td>\n",
       "      <td>Asia</td>\n",
       "    </tr>\n",
       "    <tr>\n",
       "      <th>171</th>\n",
       "      <td>Yemen</td>\n",
       "      <td>554.448633</td>\n",
       "      <td>0.841075</td>\n",
       "      <td>17409072</td>\n",
       "      <td>Asia</td>\n",
       "    </tr>\n",
       "    <tr>\n",
       "      <th>172</th>\n",
       "      <td>Zambia</td>\n",
       "      <td>345.689554</td>\n",
       "      <td>0.174972</td>\n",
       "      <td>10415944</td>\n",
       "      <td>Africa</td>\n",
       "    </tr>\n",
       "    <tr>\n",
       "      <th>173</th>\n",
       "      <td>Zimbabwe</td>\n",
       "      <td>563.057741</td>\n",
       "      <td>1.171874</td>\n",
       "      <td>11881477</td>\n",
       "      <td>Africa</td>\n",
       "    </tr>\n",
       "  </tbody>\n",
       "</table>\n",
       "<p>174 rows × 5 columns</p>\n",
       "</div>"
      ],
      "text/plain": [
       "            Country Name           GDP       CO2  Population      Continent\n",
       "0                Algeria   1764.973830  2.830380    31042235         Africa\n",
       "1                Andorra  21854.246803  8.019284       65390         Europe\n",
       "2                 Angola    556.836318  0.581961    16395473         Africa\n",
       "3                Albania   1126.683318  0.978175     3089027         Europe\n",
       "4    Antigua and Barbuda  10920.842688  4.534545       76016  North America\n",
       "..                   ...           ...       ...         ...            ...\n",
       "169              Vanuatu   1470.572265  0.455966      184972        Oceania\n",
       "170              Vietnam    390.093326  0.671309    79910412           Asia\n",
       "171                Yemen    554.448633  0.841075    17409072           Asia\n",
       "172               Zambia    345.689554  0.174972    10415944         Africa\n",
       "173             Zimbabwe    563.057741  1.171874    11881477         Africa\n",
       "\n",
       "[174 rows x 5 columns]"
      ]
     },
     "execution_count": 9,
     "metadata": {},
     "output_type": "execute_result"
    }
   ],
   "source": [
    "df_2000"
   ]
  },
  {
   "cell_type": "code",
   "execution_count": null,
   "metadata": {},
   "outputs": [],
   "source": [
    "df_2015"
   ]
  },
  {
   "cell_type": "markdown",
   "metadata": {},
   "source": [
    "# Question 1 \n",
    "\n",
    "You notice that the tables `df_2000` and `df_2015` have columns `GDP` and `CO2`, which you wish to include in your visualization. \n",
    "\n",
    "These columns contain numbers with many decimal places, but you are only planning on displaying numbers up to two decimal places in your visualization. \n",
    "\n",
    "Round the numbers in these dataframes so they only contain numbers up to two decimal places."
   ]
  },
  {
   "cell_type": "code",
   "execution_count": null,
   "metadata": {},
   "outputs": [],
   "source": [
    "# TODO : Round the values"
   ]
  },
  {
   "cell_type": "code",
   "execution_count": null,
   "metadata": {},
   "outputs": [],
   "source": [
    "# Use this cell to check your answer\n",
    "df_2000"
   ]
  },
  {
   "cell_type": "code",
   "execution_count": null,
   "metadata": {},
   "outputs": [],
   "source": [
    "# Use this cell to check your answer\n",
    "df_2015"
   ]
  },
  {
   "cell_type": "markdown",
   "metadata": {},
   "source": [
    "# Question 2\n",
    "\n",
    "Given the data you have, you decide to create a simple scatter plot for each dataframe.\n",
    "\n",
    "In the next cells, fill the functions to accomplish this task. \n",
    "\n",
    "### 2.1\n",
    "\n",
    "First, fill the `get_scatter` function, which returns a scatter plot figure for the given data frame. Its x axis is GDP and its y axis is CO2. Its `hover_name` property is represented by the country name. The title of the scatter plot is passed as argument. The axes should be represented as linearly scaled.\n",
    "\n",
    "### 2.2\n",
    "\n",
    "Second, fill the `get_range` function, which will help to more easily compare the two scatter plots. We want both scatter plots to have the same range for their x and y axes, and to be able to see all the points in each scatter plot. Thus, for the given column, the function should return an array containing the minimum and maximum across the two dataframes. \n",
    "\n"
   ]
  },
  {
   "cell_type": "code",
   "execution_count": null,
   "metadata": {},
   "outputs": [],
   "source": [
    "def get_scatter(df, title):\n",
    "    # TODO : Construct the scatter plot\n",
    "    pass"
   ]
  },
  {
   "cell_type": "code",
   "execution_count": null,
   "metadata": {},
   "outputs": [],
   "source": [
    "def get_range(col, df1, df2):\n",
    "    # TODO : Calculate the range\n",
    "    pass"
   ]
  },
  {
   "cell_type": "markdown",
   "metadata": {},
   "source": [
    "Run these next three cells to check your answer. You should see your two scatter plots side by side."
   ]
  },
  {
   "cell_type": "code",
   "execution_count": null,
   "metadata": {},
   "outputs": [],
   "source": [
    "fig_2000 = get_scatter(df_2000, '2000')\n",
    "fig_2015 = get_scatter(df_2015, '2015')\n",
    "\n",
    "fig_2000.update_layout(xaxis=dict(range=get_range('GDP', df_2000, df_2015)))\n",
    "fig_2000.update_layout(yaxis=dict(range=get_range('CO2', df_2000, df_2015)))\n",
    "fig_2000.update_layout(dragmode=False)\n",
    "\n",
    "\n",
    "fig_2015.update_layout(xaxis=dict(range=get_range('GDP', df_2000, df_2015)))\n",
    "fig_2015.update_layout(yaxis=dict(range=get_range('CO2', df_2000, df_2015)))\n",
    "fig_2015.update_layout(dragmode=False);\n"
   ]
  },
  {
   "cell_type": "code",
   "execution_count": null,
   "metadata": {},
   "outputs": [],
   "source": [
    "config=dict(\n",
    "                scrollZoom=False,\n",
    "                showTips=False,\n",
    "                showAxisDragHandles=False,\n",
    "                doubleClick=False,\n",
    "                displayModeBar=False\n",
    "            )\n",
    "\n",
    "app.layout = html.Div(children=[\n",
    "        html.Div(className='row', children=[dcc.Graph(id='fig-2000', figure=fig_2000, className='six columns', config=config), dcc.Graph(id='fig-2015', figure=fig_2015, className='six columns', config=config)]),\n",
    "        html.Div(style = {'width': '100%', 'display': 'flex', 'alignItems': 'center', 'justifyContent': 'center', 'flexDirection' : 'column'}, children=[\n",
    "            html.H4('Hover over markers for more information', id='country'),\n",
    "            html.Table(children=[\n",
    "                html.Thead(html.Tr(children=[html.Th(), html.Th('GDP per capita ($ USD)'), html.Th('CO2 emissions per capita (metric tonnes)')])),\n",
    "                html.Tbody(children=[\n",
    "                    html.Tr(children=[html.Th('2000'), html.Td(id='2000-gdp'), html.Td(id='2000-co2')]),\n",
    "                    html.Tr(children=[html.Th('2015'), html.Td(id='2015-gdp'), html.Td(id='2015-co2')])\n",
    "                ])\n",
    "            ])\n",
    "        ])\n",
    "    ])"
   ]
  },
  {
   "cell_type": "code",
   "execution_count": null,
   "metadata": {},
   "outputs": [],
   "source": [
    "# Use this cell to check your answer\n",
    "app.run_server(port=8051)"
   ]
  },
  {
   "cell_type": "markdown",
   "metadata": {},
   "source": [
    "# Question 3\n",
    "\n",
    "Now that you've seen both charts side-by-side, you've realized it might be interesting to model them with an animation. However, you'd like to be able to compare the data for countries more easily across the scatter plots.\n",
    "\n",
    "To do so, you will implement a callback function which is triggered whenever a point is hovered in one of the two scatter plots. The signature for this function is already started below. \n",
    "\n",
    "Complete the function so that whenever a point is hovered, the appropriate information is displayed in the table below the scatter plots. \n",
    "\n",
    "The title of the table should be the name of the country of the hovered point. Further, the table should contain the GDP and CO2 information for the years 2000 and 2015."
   ]
  },
  {
   "cell_type": "code",
   "execution_count": null,
   "metadata": {},
   "outputs": [],
   "source": [
    "from dash.dependencies import Input, Output, State"
   ]
  },
  {
   "cell_type": "code",
   "execution_count": null,
   "metadata": {},
   "outputs": [],
   "source": [
    "@app.callback(\n",
    "    [Output('country', 'children'), Output('2000-gdp', 'children'), Output('2000-co2', 'children'), Output('2015-gdp', 'children'), Output('2015-co2', 'children')],\n",
    "    [Input('fig-2000', 'hoverData'), Input('fig-2015', 'hoverData')],\n",
    "    [State('country', 'children'), State('2000-gdp', 'children'), State('2000-co2', 'children'), State('2015-gdp', 'children'), State('2015-co2', 'children')])\n",
    "def display_selected_data(hoverData2000, hoverData2015, prevCountry, prevgdp0, prevco20, prevgdp5, prevco25):\n",
    "    # TODO : Handle the display when a point is hovered\n",
    "    return None, None, None, None, None"
   ]
  },
  {
   "cell_type": "markdown",
   "metadata": {},
   "source": [
    "Run these next three cells to check your answer. You should see the table get filled when you hover a point in either scatter plot."
   ]
  },
  {
   "cell_type": "code",
   "execution_count": null,
   "metadata": {},
   "outputs": [],
   "source": [
    "# Use this cell to check your answer\n",
    "app.run_server(port=8052)"
   ]
  },
  {
   "cell_type": "markdown",
   "metadata": {},
   "source": [
    "# Next steps\n",
    "\n",
    "After this initial exploration step, you've decided you would like to implement this data visualization as a bubble chart with an animation to transition between the two years. You also would like to change the axes display to be log-scaled. You will reuse some of this code and complete the rest of the code provided with this TP to make these changes."
   ]
  }
 ],
 "metadata": {
  "kernelspec": {
   "display_name": "venv",
   "language": "python",
   "name": "venv"
  },
  "language_info": {
   "codemirror_mode": {
    "name": "ipython",
    "version": 3
   },
   "file_extension": ".py",
   "mimetype": "text/x-python",
   "name": "python",
   "nbconvert_exporter": "python",
   "pygments_lexer": "ipython3",
   "version": "3.8.10"
  }
 },
 "nbformat": 4,
 "nbformat_minor": 4
}
